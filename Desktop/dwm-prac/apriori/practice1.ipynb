{
 "cells": [
  {
   "cell_type": "code",
   "execution_count": 17,
   "metadata": {},
   "outputs": [
    {
     "name": "stdout",
     "output_type": "stream",
     "text": [
      "      support               itemsets\n",
      "0    0.137137                (Bread)\n",
      "1    0.148148               (Butter)\n",
      "2    0.162162               (Cereal)\n",
      "3    0.140140               (Cheese)\n",
      "4    0.152152              (Chicken)\n",
      "..        ...                    ...\n",
      "204  0.019019         (Tea, Vinegar)\n",
      "205  0.030030          (Yogurt, Tea)\n",
      "206  0.018018  (Vegetables, Vinegar)\n",
      "207  0.019019   (Vegetables, Yogurt)\n",
      "208  0.015015      (Yogurt, Vinegar)\n",
      "\n",
      "[209 rows x 2 columns]\n",
      "      antecedents   consequents  ...  conviction  zhangs_metric\n",
      "0         (Bread)      (Butter)  ...    0.997468      -0.016880\n",
      "1        (Butter)       (Bread)  ...    0.997685      -0.017094\n",
      "2         (Bread)      (Cereal)  ...    1.034088       0.168660\n",
      "3        (Cereal)       (Bread)  ...    1.027822       0.173697\n",
      "4         (Bread)      (Cheese)  ...    1.006844       0.046404\n",
      "..            ...           ...  ...         ...            ...\n",
      "351  (Vegetables)     (Vinegar)  ...    0.976499      -0.171053\n",
      "352     (Vinegar)  (Vegetables)  ...    0.973974      -0.168904\n",
      "353  (Vegetables)      (Yogurt)  ...    0.966681      -0.215741\n",
      "354      (Yogurt)  (Vegetables)  ...    0.967175      -0.216141\n",
      "355     (Vinegar)      (Yogurt)  ...    0.948166      -0.332333\n",
      "\n",
      "[356 rows x 10 columns]\n"
     ]
    }
   ],
   "source": [
    "import pandas as pd\n",
    "import matplotlib.pyplot as plt\n",
    "from mlxtend.frequent_patterns import apriori , association_rules\n",
    "\n",
    "#Loading the dataset\n",
    "df = pd.read_csv('apriori_transaction_data.csv')\n",
    "df.head()\n",
    "\n",
    "#transforming the dataset into the One-hot encoded format\n",
    "data_Encoded = pd.get_dummies(df.stack()).groupby(level=0).sum()\n",
    "\n",
    "#step3 getting the frequent items\n",
    "frequent_items = apriori(data_Encoded , min_support=0.01 , use_colnames= True )\n",
    "print(frequent_items)\n",
    "\n",
    "#step 4 getting the association rules\n",
    "associationRules = association_rules(frequent_items , metric= \"confidence\" , min_threshold=0.1 )\n",
    "print(associationRules)"
   ]
  }
 ],
 "metadata": {
  "kernelspec": {
   "display_name": "Python 3",
   "language": "python",
   "name": "python3"
  },
  "language_info": {
   "codemirror_mode": {
    "name": "ipython",
    "version": 3
   },
   "file_extension": ".py",
   "mimetype": "text/x-python",
   "name": "python",
   "nbconvert_exporter": "python",
   "pygments_lexer": "ipython3",
   "version": "3.12.7"
  }
 },
 "nbformat": 4,
 "nbformat_minor": 2
}
