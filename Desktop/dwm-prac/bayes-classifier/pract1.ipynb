{
 "cells": [
  {
   "cell_type": "code",
   "execution_count": 25,
   "metadata": {},
   "outputs": [
    {
     "name": "stdout",
     "output_type": "stream",
     "text": [
      "     Customer ID  Age  Gender  Occupation  Income  Brand Preference  \\\n",
      "0              1   42       1           0   87913                 1   \n",
      "1              2   23       1           1   78802                 3   \n",
      "2              3   51       0           1   22702                 2   \n",
      "3              4   35       0           1   89576                 3   \n",
      "4              5   37       0           2   90387                 0   \n",
      "..           ...  ...     ...         ...     ...               ...   \n",
      "995          996   22       0           1   36228                 2   \n",
      "996          997   37       1           2   31245                 0   \n",
      "997          998   28       1           1   53668                 3   \n",
      "998          999   19       0           2   55492                 0   \n",
      "999         1000   53       1           2   59441                 2   \n",
      "\n",
      "     Previous Purchases  \n",
      "0                     2  \n",
      "1                     2  \n",
      "2                     4  \n",
      "3                     3  \n",
      "4                     4  \n",
      "..                  ...  \n",
      "995                   3  \n",
      "996                   1  \n",
      "997                   2  \n",
      "998                   0  \n",
      "999                   4  \n",
      "\n",
      "[1000 rows x 7 columns]\n",
      "[[197   0]\n",
      " [103   0]]\n",
      "0.6566666666666666\n"
     ]
    }
   ],
   "source": [
    "import pandas as pd\n",
    "from sklearn.preprocessing import LabelEncoder\n",
    "from sklearn.model_selection import train_test_split\n",
    "from sklearn.naive_bayes import GaussianNB\n",
    "from sklearn.metrics import confusion_matrix , accuracy_score\n",
    "import matplotlib.pyplot as plt\n",
    "\n",
    "df = pd.read_csv('laptop_buying_data.csv')\n",
    "\n",
    "df.head()\n",
    "\n",
    "#feature Selection\n",
    "X =df.drop('Purchase Intention' , axis=1)\n",
    "y= df['Purchase Intention']\n",
    "\n",
    "le = LabelEncoder()\n",
    "\n",
    "#Encode the categorial Features\n",
    "X['Gender'] = le.fit_transform(X['Gender'])\n",
    "X['Occupation'] = le.fit_transform(X['Occupation'])\n",
    "X['Brand Preference'] = le.fit_transform(X['Brand Preference'])\n",
    "\n",
    "print(X)\n",
    "\n",
    "#Split the data for training and testing purpose\n",
    "X_train , X_test , y_train , y_test = train_test_split(X , y, test_size=0.3, random_state=42)\n",
    "\n",
    "\n",
    "#intialize the model\n",
    "naive_model = GaussianNB()\n",
    "\n",
    "naive_model.fit(X_train, y_train)\n",
    "\n",
    "y_pred =naive_model.predict(X_test)\n",
    "\n",
    "conf_matrix = confusion_matrix(y_test, y_pred)\n",
    "\n",
    "print(conf_matrix)\n",
    "\n",
    "accuracy = accuracy_score(y_test, y_pred)\n",
    "print(accuracy)\n"
   ]
  },
  {
   "cell_type": "code",
   "execution_count": null,
   "metadata": {},
   "outputs": [],
   "source": []
  }
 ],
 "metadata": {
  "kernelspec": {
   "display_name": "Python 3",
   "language": "python",
   "name": "python3"
  },
  "language_info": {
   "codemirror_mode": {
    "name": "ipython",
    "version": 3
   },
   "file_extension": ".py",
   "mimetype": "text/x-python",
   "name": "python",
   "nbconvert_exporter": "python",
   "pygments_lexer": "ipython3",
   "version": "3.12.7"
  }
 },
 "nbformat": 4,
 "nbformat_minor": 2
}
